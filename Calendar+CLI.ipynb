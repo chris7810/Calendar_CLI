{
 "cells": [
  {
   "cell_type": "code",
   "execution_count": 1,
   "metadata": {
    "collapsed": false
   },
   "outputs": [
    {
     "data": {
      "text/plain": [
       "'C:\\\\Users\\\\Chris'"
      ]
     },
     "execution_count": 1,
     "metadata": {},
     "output_type": "execute_result"
    }
   ],
   "source": [
    "pwd"
   ]
  },
  {
   "cell_type": "code",
   "execution_count": 1,
   "metadata": {
    "collapsed": true
   },
   "outputs": [],
   "source": [
    "import argparse\n",
    "import sys"
   ]
  },
  {
   "cell_type": "code",
   "execution_count": 12,
   "metadata": {
    "collapsed": true
   },
   "outputs": [],
   "source": [
    "import datetime\n",
    "import csv"
   ]
  },
  {
   "cell_type": "code",
   "execution_count": 18,
   "metadata": {
    "collapsed": false,
    "scrolled": true
   },
   "outputs": [
    {
     "name": "stdout",
     "output_type": "stream",
     "text": [
      "2017-04-13T20:31:24.304134Z\n"
     ]
    }
   ],
   "source": [
    "now = datetime.datetime.utcnow().isoformat() + 'Z'\n",
    "print(now)"
   ]
  },
  {
   "cell_type": "code",
   "execution_count": 19,
   "metadata": {
    "collapsed": false
   },
   "outputs": [
    {
     "ename": "SyntaxError",
     "evalue": "invalid syntax (<ipython-input-19-c42c5bd5a428>, line 1)",
     "output_type": "error",
     "traceback": [
      "\u001b[0;36m  File \u001b[0;32m\"<ipython-input-19-c42c5bd5a428>\"\u001b[0;36m, line \u001b[0;32m1\u001b[0m\n\u001b[0;31m    print datetime.now(EST).strftime('%m/%d/%Y %H:%M:%S: %Z')\u001b[0m\n\u001b[0m                 ^\u001b[0m\n\u001b[0;31mSyntaxError\u001b[0m\u001b[0;31m:\u001b[0m invalid syntax\n"
     ]
    }
   ],
   "source": [
    "print datetime.now(utc).strftime('%m/%d/%Y %H:%M:%S: %Z') "
   ]
  },
  {
   "cell_type": "code",
   "execution_count": null,
   "metadata": {
    "collapsed": true
   },
   "outputs": [],
   "source": [
    "def main():\n",
    "    parser = argparser.ArgumentParser()\n",
    "    parser.add_argument('--id', type=float, help='Event ID')\n",
    "    parser.add_argument('--title', type=str, help='Event name')\n",
    "    parser.add_argument('--location', type=str, help='Event location')\n",
    "    parser.add_argument('--date', type=str, help='Event date')\n",
    "    parser.add_argument('--start', type=str, help='Event start')\n",
    "    parser.add_argument('--end', type=str, help='Event end')\n",
    "    parser.add_argument('--operation', type=str, help='Calendar operation (add, view, agenda, week)')\n",
    "    sys.stout.write(str(event(args)))    \n",
    "    \n",
    "def event(args):\n",
    "    if args.operation == 'add':\n",
    "        return in \n",
    "    elif args.operation == 'view':\n",
    "        return \n",
    "    elif args.operation == 'agenda':\n",
    "        return                     \n",
    "    elif args.operation == 'week':\n",
    "        return \n"
   ]
  },
  {
   "cell_type": "code",
   "execution_count": null,
   "metadata": {
    "collapsed": true
   },
   "outputs": [],
   "source": [
    "l"
   ]
  }
 ],
 "metadata": {
  "kernelspec": {
   "display_name": "Python 3",
   "language": "python",
   "name": "python3"
  },
  "language_info": {
   "codemirror_mode": {
    "name": "ipython",
    "version": 3
   },
   "file_extension": ".py",
   "mimetype": "text/x-python",
   "name": "python",
   "nbconvert_exporter": "python",
   "pygments_lexer": "ipython3",
   "version": "3.6.0"
  }
 },
 "nbformat": 4,
 "nbformat_minor": 2
}
